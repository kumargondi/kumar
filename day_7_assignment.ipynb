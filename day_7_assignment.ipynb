{
  "nbformat": 4,
  "nbformat_minor": 0,
  "metadata": {
    "colab": {
      "provenance": []
    },
    "kernelspec": {
      "name": "python3",
      "display_name": "Python 3"
    },
    "language_info": {
      "name": "python"
    }
  },
  "cells": [
    {
      "cell_type": "markdown",
      "source": [
        "#  Convert list into dictionary using enumerate"
      ],
      "metadata": {
        "id": "ysKQaKo66ibg"
      }
    },
    {
      "cell_type": "code",
      "source": [
        "list= [\"apple\", \"banana\", \"cherry\", \"date\"]"
      ],
      "metadata": {
        "id": "KSsVNczjlEAS"
      },
      "execution_count": 6,
      "outputs": []
    },
    {
      "cell_type": "code",
      "source": [
        "dict = {index: value for index, value in enumerate(list)}"
      ],
      "metadata": {
        "id": "ERdlA1Ud53oC"
      },
      "execution_count": 7,
      "outputs": []
    },
    {
      "cell_type": "code",
      "source": [
        "print(dict)"
      ],
      "metadata": {
        "colab": {
          "base_uri": "https://localhost:8080/"
        },
        "id": "eZZAw8tx5959",
        "outputId": "de4444cf-4d51-4d9e-be17-288922f4e697"
      },
      "execution_count": 8,
      "outputs": [
        {
          "output_type": "stream",
          "name": "stdout",
          "text": [
            "{0: 'apple', 1: 'banana', 2: 'cherry', 3: 'date'}\n"
          ]
        }
      ]
    }
  ]
}