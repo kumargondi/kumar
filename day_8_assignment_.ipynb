{
  "cells": [
    {
      "cell_type": "code",
      "source": [
        "L = [1,2,3,4]\n",
        "def fun(x):\n",
        "  return x%2==0\n",
        "list2 = filter(fun,L)\n",
        "result = list(list2)\n",
        "print(result)"
      ],
      "metadata": {
        "colab": {
          "base_uri": "https://localhost:8080/"
        },
        "id": "soCUTY-wNmMW",
        "outputId": "97b71fda-1d99-4ac1-c693-18a1b5a2d6cb"
      },
      "id": "soCUTY-wNmMW",
      "execution_count": 6,
      "outputs": [
        {
          "output_type": "stream",
          "name": "stdout",
          "text": [
            "[2, 4]\n"
          ]
        }
      ]
    },
    {
      "cell_type": "code",
      "source": [],
      "metadata": {
        "id": "AvrJz9a2OKcj"
      },
      "id": "AvrJz9a2OKcj",
      "execution_count": null,
      "outputs": []
    }
  ],
  "metadata": {
    "kernelspec": {
      "display_name": "Python 3 (ipykernel)",
      "language": "python",
      "name": "python3"
    },
    "language_info": {
      "codemirror_mode": {
        "name": "ipython",
        "version": 3
      },
      "file_extension": ".py",
      "mimetype": "text/x-python",
      "name": "python",
      "nbconvert_exporter": "python",
      "pygments_lexer": "ipython3",
      "version": "3.11.4"
    },
    "colab": {
      "provenance": []
    }
  },
  "nbformat": 4,
  "nbformat_minor": 5
}