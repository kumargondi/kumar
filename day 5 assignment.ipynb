{
 "cells": [
  {
   "cell_type": "code",
   "execution_count": 13,
   "id": "d98c210e",
   "metadata": {},
   "outputs": [],
   "source": [
    "list=[1,2,3,4]\n",
    "#expected output is 1,4,9,16"
   ]
  },
  {
   "cell_type": "code",
   "execution_count": 14,
   "id": "f67c35a8",
   "metadata": {},
   "outputs": [
    {
     "name": "stdout",
     "output_type": "stream",
     "text": [
      "[1, 4, 9, 16]\n"
     ]
    }
   ],
   "source": [
    "list=[i**2 for i in list]\n",
    "print(list)\n",
    "    "
   ]
  },
  {
   "cell_type": "code",
   "execution_count": null,
   "id": "6e1355cf",
   "metadata": {},
   "outputs": [],
   "source": []
  }
 ],
 "metadata": {
  "kernelspec": {
   "display_name": "Python 3 (ipykernel)",
   "language": "python",
   "name": "python3"
  },
  "language_info": {
   "codemirror_mode": {
    "name": "ipython",
    "version": 3
   },
   "file_extension": ".py",
   "mimetype": "text/x-python",
   "name": "python",
   "nbconvert_exporter": "python",
   "pygments_lexer": "ipython3",
   "version": "3.11.4"
  }
 },
 "nbformat": 4,
 "nbformat_minor": 5
}
